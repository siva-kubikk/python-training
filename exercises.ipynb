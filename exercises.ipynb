{
 "cells": [
  {
   "cell_type": "markdown",
   "metadata": {},
   "source": [
    "Exercise 1 (and Solution)\n",
    "Create a program that asks the user to enter their name and their age. Print out a message addressed to them that tells them the year that they will turn 100 years old. Note: for this exercise, the expectation is that you explicitly write out the year (and therefore be out of date the next year). If you want to do this in a generic way, see exercise 39.\n",
    "\n"
   ]
  },
  {
   "cell_type": "code",
   "execution_count": 15,
   "metadata": {},
   "outputs": [
    {
     "name": "stdout",
     "output_type": "stream",
     "text": [
      "Name: s\n",
      "Age: 5\n",
      "Number of years after which you will be 100 years old is: 95\n",
      "Current year is: 2023\n",
      "The year in which s will be hundred years old is: 2118\n",
      "You will be 100 in the year 2118\n",
      "Final year: 2118\n"
     ]
    }
   ],
   "source": [
    "import datetime as dt\n",
    "name = input(\"Enter your name\")\n",
    "age = int(input(\"Enter your age\"))\n",
    "\n",
    "years_to_100 = 100 - age\n",
    "current_year = dt.datetime.now().year \n",
    "hundredth_year = current_year + years_to_100\n",
    "\n",
    "final_year = (100 - age) + current_year\n",
    "\n",
    "print(f\"Name: {name}\")\n",
    "print(f\"Age: {age}\")\n",
    "print(f\"Number of years after which you will be 100 years old is: {years_to_100}\")\n",
    "print(f\"Current year is: {current_year}\")\n",
    "print(f\"The year in which {name} will be hundred years old is: {hundredth_year}\")\n",
    "\n",
    "print(\"You will be 100 in the year \" + str(hundredth_year))\n",
    "print(f\"Final year: {final_year}\")"
   ]
  },
  {
   "cell_type": "markdown",
   "metadata": {},
   "source": [
    "Exercise 2 (and Solution)\n",
    "The exercise comes first (with a few extras if you want the extra challenge or want to spend more time), followed by a discussion. Enjoy!\n",
    "\n",
    "Ask the user for a number. Depending on whether the number is even or odd, print out an appropriate message to the user. Hint: how does an even / odd number react differently when divided by 2?\n",
    "\n"
   ]
  },
  {
   "cell_type": "code",
   "execution_count": 33,
   "metadata": {},
   "outputs": [
    {
     "name": "stdout",
     "output_type": "stream",
     "text": [
      "46 is an Even number and NOT divisible by 4.\n"
     ]
    }
   ],
   "source": [
    "number = int(input(\"Enter a number\"))\n",
    "\n",
    "if (number % 2) == 0:\n",
    "    if ((number % 100) % 4) == 0:\n",
    "        print (f\"{number} is an Even number and divisible by 4\")\n",
    "    else:\n",
    "        print(f\"{number} is an Even number and NOT divisible by 4.\")\n",
    "else:\n",
    "    print(f\"{number} is an Odd number.\")"
   ]
  }
 ],
 "metadata": {
  "kernelspec": {
   "display_name": "Python 3",
   "language": "python",
   "name": "python3"
  },
  "language_info": {
   "codemirror_mode": {
    "name": "ipython",
    "version": 3
   },
   "file_extension": ".py",
   "mimetype": "text/x-python",
   "name": "python",
   "nbconvert_exporter": "python",
   "pygments_lexer": "ipython3",
   "version": "3.11.6"
  }
 },
 "nbformat": 4,
 "nbformat_minor": 2
}

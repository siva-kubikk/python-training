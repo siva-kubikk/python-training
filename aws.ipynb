{
 "cells": [
  {
   "cell_type": "code",
   "execution_count": 3,
   "metadata": {},
   "outputs": [
    {
     "name": "stdout",
     "output_type": "stream",
     "text": [
      "Requirement already satisfied: boto3 in /opt/homebrew/lib/python3.11/site-packages (1.29.4)\n",
      "Requirement already satisfied: botocore<1.33.0,>=1.32.4 in /opt/homebrew/lib/python3.11/site-packages (from boto3) (1.32.4)\n",
      "Requirement already satisfied: jmespath<2.0.0,>=0.7.1 in /opt/homebrew/lib/python3.11/site-packages (from boto3) (1.0.1)\n",
      "Requirement already satisfied: s3transfer<0.8.0,>=0.7.0 in /opt/homebrew/lib/python3.11/site-packages (from boto3) (0.7.0)\n",
      "Requirement already satisfied: python-dateutil<3.0.0,>=2.1 in /Users/siva/Library/Python/3.11/lib/python/site-packages (from botocore<1.33.0,>=1.32.4->boto3) (2.8.2)\n",
      "Requirement already satisfied: urllib3<2.1,>=1.25.4 in /opt/homebrew/lib/python3.11/site-packages (from botocore<1.33.0,>=1.32.4->boto3) (2.0.7)\n",
      "Requirement already satisfied: six>=1.5 in /opt/homebrew/lib/python3.11/site-packages (from python-dateutil<3.0.0,>=2.1->botocore<1.33.0,>=1.32.4->boto3) (1.16.0)\n",
      "\n",
      "\u001b[1m[\u001b[0m\u001b[34;49mnotice\u001b[0m\u001b[1;39;49m]\u001b[0m\u001b[39;49m A new release of pip is available: \u001b[0m\u001b[31;49m23.2.1\u001b[0m\u001b[39;49m -> \u001b[0m\u001b[32;49m23.3.1\u001b[0m\n",
      "\u001b[1m[\u001b[0m\u001b[34;49mnotice\u001b[0m\u001b[1;39;49m]\u001b[0m\u001b[39;49m To update, run: \u001b[0m\u001b[32;49mpython3.11 -m pip install --upgrade pip\u001b[0m\n"
     ]
    }
   ],
   "source": [
    "!pip3 install boto3"
   ]
  },
  {
   "cell_type": "markdown",
   "metadata": {},
   "source": [
    "## Print list of buckets in S3"
   ]
  },
  {
   "cell_type": "code",
   "execution_count": 17,
   "metadata": {},
   "outputs": [
    {
     "name": "stdout",
     "output_type": "stream",
     "text": [
      "['kubikk-kafka-plugins', 'kubikk-loki', 'kubikk-observability-1', 'kubikk-observability-2', 'kubikk-tabular-test1']\n"
     ]
    }
   ],
   "source": [
    "import boto3\n",
    "\n",
    "# Call to S3 to list current buckets\n",
    "response = s3.list_buckets()\n",
    "\n",
    "# print(response['Buckets'])\n",
    "# for b in response['Buckets']:\n",
    "#     print(b['Name'])\n",
    "\n",
    "print([i['Name'] for i in response['Buckets']])\n",
    "\n",
    "# # Get a list of all bucket names from the response\n",
    "# buckets = [bucket['Name'] for bucket in response['Buckets']]\n",
    "# # Print out the bucket list\n",
    "# print(\"Bucket List:\")\n",
    "# for bucket in buckets:\n",
    "#     print(bucket)\n"
   ]
  },
  {
   "cell_type": "markdown",
   "metadata": {},
   "source": [
    "## List volumes by size"
   ]
  },
  {
   "cell_type": "code",
   "execution_count": 19,
   "metadata": {},
   "outputs": [
    {
     "name": "stdout",
     "output_type": "stream",
     "text": [
      "{'Volumes': [], 'ResponseMetadata': {'RequestId': '0de46b4c-e96b-439d-9c43-054a2f3d5cbf', 'HTTPStatusCode': 200, 'HTTPHeaders': {'x-amzn-requestid': '0de46b4c-e96b-439d-9c43-054a2f3d5cbf', 'cache-control': 'no-cache, no-store', 'strict-transport-security': 'max-age=31536000; includeSubDomains', 'content-type': 'text/xml;charset=UTF-8', 'content-length': '221', 'date': 'Mon, 20 Nov 2023 22:37:48 GMT', 'server': 'AmazonEC2'}, 'RetryAttempts': 0}}\n"
     ]
    }
   ],
   "source": [
    "import boto3\n",
    "\n",
    "ec2 = boto3.client('ec2')\n",
    "\n",
    "volumes = ec2.describe_volumes()\n",
    "\n",
    "print(volumes)"
   ]
  },
  {
   "cell_type": "code",
   "execution_count": null,
   "metadata": {},
   "outputs": [],
   "source": [
    "import boto3\n",
    "\n",
    "# Create an EC2 client\n",
    "ec2 = boto3.client('ec2')\n",
    "\n",
    "# Retrieve all volumes\n",
    "response = ec2.describe_volumes()\n",
    "\n",
    "# Extract the volumes\n",
    "volumes = response['Volumes']\n",
    "\n",
    "# Sort the volumes by size in descending order\n",
    "sorted_volumes = sorted(volumes, key=lambda x: x['Size'], reverse=True)\n",
    "\n",
    "# Print the sorted list\n",
    "for volume in sorted_volumes:\n",
    "    print(f\"Volume ID: {volume['VolumeId']}, Size: {volume['Size']} GiB\")\n"
   ]
  }
 ],
 "metadata": {
  "kernelspec": {
   "display_name": "Python 3",
   "language": "python",
   "name": "python3"
  },
  "language_info": {
   "codemirror_mode": {
    "name": "ipython",
    "version": 3
   },
   "file_extension": ".py",
   "mimetype": "text/x-python",
   "name": "python",
   "nbconvert_exporter": "python",
   "pygments_lexer": "ipython3",
   "version": "3.11.6"
  }
 },
 "nbformat": 4,
 "nbformat_minor": 2
}
